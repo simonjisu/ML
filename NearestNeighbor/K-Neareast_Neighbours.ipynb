{
 "cells": [
  {
   "cell_type": "markdown",
   "metadata": {},
   "source": [
    "# k Neareast Neighbors\n",
    "어디 클러스터에 들어갈지 보는 것: 분류\n",
    "\n",
    "k: 가장 가까운 점의 갯수를 보는데, 몇개를 볼지 정하는 것, 주로 홀수를 씀\n",
    "\n",
    "주로 쓰이는 곳: 손글씨, 추천 알고리즘\n",
    "\n",
    "단점: 오래걸린다."
   ]
  },
  {
   "cell_type": "markdown",
   "metadata": {},
   "source": [
    "# kNN 구현하기"
   ]
  },
  {
   "cell_type": "code",
   "execution_count": 1,
   "metadata": {
    "collapsed": false
   },
   "outputs": [],
   "source": [
    "data = np.array([['1', '0', 'a'],\n",
    "                 ['2', '2', 'a'],\n",
    "                 ['2', '1', 'a'],\n",
    "                 ['2', '3', 'a'],\n",
    "                 ['4', '9', 'b'],\n",
    "                 ['5', '9', 'b'],\n",
    "                 ['6', '9', 'b'],\n",
    "                 ['6', '6', 'b'],\n",
    "                 ['7', '7', 'b'],\n",
    "                 ['9', '6', 'b']])"
   ]
  },
  {
   "cell_type": "code",
   "execution_count": 2,
   "metadata": {
    "collapsed": true
   },
   "outputs": [],
   "source": [
    "x, y, labels = data[:, 0].astype(np.int), data[:, 1].astype(np.int), data[:, 2]"
   ]
  },
  {
   "cell_type": "code",
   "execution_count": 3,
   "metadata": {
    "collapsed": false
   },
   "outputs": [
    {
     "data": {
      "image/png": "[encoded data removed]",
      "text/plain": [
       "<matplotlib.figure.Figure at 0x1118e0e48>"
      ]
     },
     "metadata": {},
     "output_type": "display_data"
    }
   ],
   "source": [
    "plt.scatter(x[:4], y[:4], c='red')\n",
    "plt.scatter(x[4:], y[4:], c='blue')\n",
    "plt.show()"
   ]
  },
  {
   "cell_type": "code",
   "execution_count": 4,
   "metadata": {
    "collapsed": false
   },
   "outputs": [
    {
     "data": {
      "text/plain": [
       "array([[1, 0],\n",
       "       [2, 2],\n",
       "       [2, 1],\n",
       "       [2, 3],\n",
       "       [4, 9],\n",
       "       [5, 9],\n",
       "       [6, 9],\n",
       "       [6, 6],\n",
       "       [7, 7],\n",
       "       [9, 6]])"
      ]
     },
     "execution_count": 4,
     "metadata": {},
     "output_type": "execute_result"
    }
   ],
   "source": [
    "d = np.vstack([x, y]).T\n",
    "d"
   ]
  },
  {
   "cell_type": "code",
   "execution_count": 5,
   "metadata": {
    "collapsed": false
   },
   "outputs": [],
   "source": [
    "from collections import Counter\n",
    "\n",
    "def cal_distance(point, data):\n",
    "    \"\"\"point에 대한 거리 계산\"\"\"\n",
    "    # dis = np.sqrt((d - point)**2).sum(axis=1))\n",
    "    dis = np.linalg.norm(d - point, axis=1)\n",
    "    return dis\n",
    "    \n",
    "def get_sorted_index(dis):\n",
    "    idx = dis.argsort()\n",
    "    return idx\n",
    "\n",
    "def get_to_vote(labels, idx, k):\n",
    "    voters = labels[idx[:k]]\n",
    "#     vote_labels, vote_index, vote_counts = np.unique(voters, return_index=True, return_counts=True)  \n",
    "#     winner = labels[vote_index[vote_counts.argmax()]]\n",
    "#     vote_dict = {v: vote_counts[i] for i, v in enumerate(vote_labels)}\n",
    "    vote_dict = Counter(voters)\n",
    "    winner = vote_dict.most_common(1)[0][0]\n",
    "    return winner, vote_dict\n",
    "\n",
    "def kNN(k, point, data, labels):\n",
    "    \"\"\"point data 차원에 맞게 넣어야함\"\"\"\n",
    "    if k % 2 == 0:\n",
    "        print('better set \"k\" an even number')\n",
    "    dis = cal_distance(point, data)\n",
    "    idx = get_sorted_index(dis)\n",
    "    winner, vote_dict = get_to_vote(labels, idx, k)\n",
    "        \n",
    "    return winner, vote_dict\n",
    "    \n",
    "def draw(point, data):\n",
    "    x = data[:, 0]\n",
    "    y = data[:, 1]\n",
    "    plt.scatter(point[0], point[1], c='green')\n",
    "    plt.scatter(x[:4], y[:4], c='red')\n",
    "    plt.scatter(x[4:], y[4:], c='blue')\n",
    "    plt.show()"
   ]
  },
  {
   "cell_type": "code",
   "execution_count": 11,
   "metadata": {
    "collapsed": false
   },
   "outputs": [
    {
     "data": {
      "text/plain": [
       "array([3, 4])"
      ]
     },
     "execution_count": 11,
     "metadata": {},
     "output_type": "execute_result"
    }
   ],
   "source": [
    "# point = np.array([5, 6])\n",
    "point = np.random.randint(0, 10, size=2)\n",
    "point"
   ]
  },
  {
   "cell_type": "code",
   "execution_count": 12,
   "metadata": {
    "collapsed": false
   },
   "outputs": [],
   "source": [
    "winner, vote_dict = kNN(3, point, d, labels)"
   ]
  },
  {
   "cell_type": "code",
   "execution_count": 13,
   "metadata": {
    "collapsed": false
   },
   "outputs": [
    {
     "data": {
      "text/plain": [
       "Counter({'a': 3})"
      ]
     },
     "execution_count": 13,
     "metadata": {},
     "output_type": "execute_result"
    }
   ],
   "source": [
    "vote_dict"
   ]
  },
  {
   "cell_type": "code",
   "execution_count": 14,
   "metadata": {
    "collapsed": false
   },
   "outputs": [
    {
     "data": {
      "text/plain": [
       "'a'"
      ]
     },
     "execution_count": 14,
     "metadata": {},
     "output_type": "execute_result"
    }
   ],
   "source": [
    "winner"
   ]
  },
  {
   "cell_type": "code",
   "execution_count": 15,
   "metadata": {
    "collapsed": false
   },
   "outputs": [
    {
     "data": {
      "image/png": "[encoded data removed]",
      "text/plain": [
       "<matplotlib.figure.Figure at 0x111b7da20>"
      ]
     },
     "metadata": {},
     "output_type": "display_data"
    }
   ],
   "source": [
    "draw(point, d)"
   ]
  },
  {
   "cell_type": "code",
   "execution_count": null,
   "metadata": {
    "collapsed": true
   },
   "outputs": [],
   "source": []
  }
 ],
 "metadata": {
  "kernelspec": {
   "display_name": "Python [conda root]",
   "language": "python",
   "name": "conda-root-py"
  },
  "language_info": {
   "codemirror_mode": {
    "name": "ipython",
    "version": 3
   },
   "file_extension": ".py",
   "mimetype": "text/x-python",
   "name": "python",
   "nbconvert_exporter": "python",
   "pygments_lexer": "ipython3",
   "version": "3.6.0"
  }
 },
 "nbformat": 4,
 "nbformat_minor": 2
}
