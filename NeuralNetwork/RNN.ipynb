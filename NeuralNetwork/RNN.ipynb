{
 "cells": [
  {
   "cell_type": "markdown",
   "metadata": {},
   "source": [
    "# RNN\n",
    "---"
   ]
  },
  {
   "cell_type": "markdown",
   "metadata": {},
   "source": [
    "전통적인 Neural Network에서는 순서라는 것을 기억하지 못한다. 그러나 우리가 알고 싶어하는 것들은 순서가 있는 경우가 많다. 예를 들어, 주가의 패턴을 분석하고 싶다면, 과거의 주가를 고려해서 분석하고자 할 것이다. RNN(순환 신경망)은 이 문제를 해결해준다.b"
   ]
  },
  {
   "cell_type": "markdown",
   "metadata": {},
   "source": [
    "http://karpathy.github.io/2015/05/21/rnn-effectiveness/"
   ]
  },
  {
   "cell_type": "markdown",
   "metadata": {},
   "source": [
    "## RNN 특징"
   ]
  },
  {
   "cell_type": "markdown",
   "metadata": {},
   "source": [
    "### Sequence\n",
    "일반적인 Neural Network(CNN포함)에서는 고정된 size의 vector를 Input으로 넣고, 고정된 size의 output을 도출한다. 그러나 RNN에서는 다양한 형태의 Input과 Output 사이즈를 도출해낼 수 있을 뿐만 아니라, 벡터의 순서를 Input으로 넣을 수 있다는것이 가장 큰 장점이다."
   ]
  },
  {
   "cell_type": "markdown",
   "metadata": {},
   "source": [
    "![](./figs/RNN0.png)"
   ]
  },
  {
   "cell_type": "markdown",
   "metadata": {},
   "source": [
    "좌측부터:\n",
    "* one-to-one(121): 일반적인 Neural Network\n",
    "* one-to-many(12N): Sequence output, e.g.) Image captioning: 이미지를 한장 넣으면 문장을 생성\n",
    "* many-to-one(N21): Sequence input, e.g.) Sentiment analysis: 감성분석\n",
    "* many-to-many(N2N): Sequence input & output, e.g.) Machine Translation: 기계 번역 \n",
    "* many-to-many(N2N): Synced sqeuence input & output, e.g.) Video classification: 매 프레임 마다 분류"
   ]
  },
  {
   "cell_type": "markdown",
   "metadata": {},
   "source": [
    "### RNN Computation"
   ]
  },
  {
   "cell_type": "markdown",
   "metadata": {},
   "source": [
    "![](./figs/RNN1.png)"
   ]
  },
  {
   "cell_type": "markdown",
   "metadata": {},
   "source": [
    "### Forward"
   ]
  },
  {
   "cell_type": "markdown",
   "metadata": {},
   "source": [
    "hello world 찍어보기"
   ]
  },
  {
   "cell_type": "markdown",
   "metadata": {},
   "source": [
    "$$\\begin{aligned} \n",
    "h_t &= tanh(W_{hh} h_{t-1} + W_{xh} x_t + b_h) \\\\\n",
    "y_t &= W_{hy} h_{t} + b_y\n",
    "\\end{aligned}$$"
   ]
  },
  {
   "cell_type": "markdown",
   "metadata": {},
   "source": [
    "Size:\n",
    "$$\\begin{aligned}\n",
    "x_t &: V, \\\\\n",
    "h_t &: N, \\\\\n",
    "y_t &: M, \\\\\n",
    "W_{xh} &: V \\times N \\\\\n",
    "W_{hh} &: N \\times N ,\\quad where \\ t=0 \\ init \\ as \\ 0s\\\\\n",
    "W_{hy} &: M \\times N \\\\\n",
    "b_h &: N, \\\\\n",
    "b_y &: M, \n",
    "\\end{aligned}$$"
   ]
  },
  {
   "cell_type": "code",
   "execution_count": 1,
   "metadata": {
    "collapsed": true
   },
   "outputs": [],
   "source": [
    "from common.utils_nn import *\n",
    "from common.layers import *\n",
    "from common.optimizer import *\n",
    "from collections import OrderedDict, defaultdict"
   ]
  },
  {
   "cell_type": "code",
   "execution_count": 2,
   "metadata": {
    "collapsed": true
   },
   "outputs": [],
   "source": [
    "class Linear(object):\n",
    "    def __init__(self, W, b=None, bias=True):\n",
    "        self.bias = bias\n",
    "        self.W = W\n",
    "        self.b = b\n",
    "        self.x = None\n",
    "        self.dW = None\n",
    "        self.db = None\n",
    "\n",
    "    def forward(self, x):\n",
    "        self.x = x\n",
    "        if self.bias:\n",
    "            out = np.dot(self.x, self.W) + self.b\n",
    "        else:\n",
    "            out = np.dot(self.x, self.W)\n",
    "            \n",
    "        return out\n",
    "\n",
    "    def backward(self, dout):\n",
    "        dx = np.dot(dout, self.W.T)\n",
    "        self.dW = np.dot(self.x.T, dout)\n",
    "        if self.bias:\n",
    "            self.db = np.sum(self.b, axis=0)\n",
    "        else:\n",
    "            self.db = None\n",
    "            \n",
    "        return dx"
   ]
  },
  {
   "cell_type": "code",
   "execution_count": 3,
   "metadata": {
    "collapsed": false
   },
   "outputs": [],
   "source": [
    "class Single_layer_RNN(object):\n",
    "    def __init__(self, input_size, hidden_size, output_size, bptt_truncate):\n",
    "        self.input_size = input_size # V\n",
    "        self.hidden_size = hidden_size # N\n",
    "        self.output_size = output_size # M\n",
    "        self.bptt_truncate = bptt_truncate\n",
    "        \n",
    "        self.params = {}\n",
    "        self.params_init()\n",
    "        \n",
    "        self.layers = None\n",
    "        self.last_layers = None\n",
    "        self.T = None\n",
    "        self.h0 = None\n",
    "        \n",
    "    def params_init(self):\n",
    "        scale_xh = np.sqrt(1.0 / self.input_size)\n",
    "        scale_hh = np.sqrt(1.0 / self.hidden_size)\n",
    "        self.params['W_xh'] = np.random.randn(self.input_size, self.hidden_size) * scale_xh\n",
    "        self.params['W_hh'] = np.random.randn(self.hidden_size, self.hidden_size) * scale_hh\n",
    "        self.params['W_hy'] = np.random.randn(self.hidden_size, self.output_size) * scale_hh\n",
    "        self.params['b_h'] = np.zeros((1, self.hidden_size))\n",
    "        self.params['b_y'] = np.zeros((1, self.output_size))\n",
    "    \n",
    "    def _hidden_init(self):\n",
    "        self.h0 = np.zeros((1, self.hidden_size))\n",
    "        return self.h0\n",
    "    \n",
    "    def _layers_init(self):\n",
    "        self.layers = defaultdict(OrderedDict)\n",
    "        for i in np.arange(self.T):\n",
    "            self.layers['Affine_xh'][i] = Linear(self.params['W_xh'], bias=False)\n",
    "            self.layers['Affine_hh'][i] = Linear(self.params['W_hh'], self.params['b_h'])\n",
    "            self.layers['Tanh'][i] = Tanh()\n",
    "            self.layers['Affine_hy'][i] = Linear(self.params['W_hy'], self.params['b_y'])\n",
    "    \n",
    "    def _last_layers_init(self):\n",
    "        self.last_layers = {}\n",
    "        for i in np.arange(self.T):\n",
    "            self.last_layers[i] = SoftmaxWithLoss()\n",
    "    \n",
    "    def forward(self, x):\n",
    "        self.T = len(x)\n",
    "        if self.layers is None:\n",
    "            self._layers_init()\n",
    "        \n",
    "        hs = {}\n",
    "        hs[-1] = self._hidden_init()\n",
    "        os = {}\n",
    "        \n",
    "        for i in np.arange(self.T):\n",
    "            a = self.layers['Affine_hh'][i].forward(hs[i-1]) + \\\n",
    "                self.layers['Affine_xh'][i].forward(x[i:i+1, :])\n",
    "            hs[i] = self.layers['Tanh'][i].forward(a)\n",
    "            os[i] = self.layers['Affine_hy'][i].forward(hs[i])\n",
    "            \n",
    "        return os, hs\n",
    "\n",
    "    def predict(self, x):\n",
    "        os, hs = self.forward(x)\n",
    "        result = []\n",
    "        for i in np.arange(self.T):\n",
    "            max_idx = np.argmax(os[i])\n",
    "            result.append(max_idx)\n",
    "        return np.array(result)\n",
    "            \n",
    "    def loss(self, x, t):\n",
    "        total_loss = 0\n",
    "        os, hs = self.forward(x)\n",
    "        if self.last_layers is None:\n",
    "            self._last_layers_init()\n",
    "        \n",
    "        for i in range(self.T):\n",
    "            loss = self.last_layers[i].forward(os[i], t[i].reshape(1, -1))\n",
    "            total_loss += loss\n",
    "        \n",
    "        return total_loss / len(t)\n",
    "\n",
    "    def backward(self):\n",
    "        # BPTT\n",
    "        self._params_summation_init()\n",
    "        dht = np.zeros_like(self.h0)\n",
    "        \n",
    "        for t in np.arange(self.T)[::-1]:\n",
    "            dout = self.last_layers[t].backward()\n",
    "            dht_raw = self.layers['Affine_hy'][t].backward(dout)\n",
    "            dat = self.layers['Tanh'][t].backward(dht_raw) + dht \n",
    "            dht = self.layers['Affine_hh'][t].backward(dat)\n",
    "            dx = self.layers['Affine_xh'][t].backward(dat) # dx\n",
    "            self._params_summation(t)\n",
    "#         self._params_summation(key=False)\n",
    "\n",
    "    def _params_summation_init(self):\n",
    "        self.params_summ = {}\n",
    "        self.summ_count = 0\n",
    "        self.params_summ['W_xh'] = np.zeros_like(self.params['W_xh'])\n",
    "        self.params_summ['W_hh'] = np.zeros_like(self.params['W_hh'])\n",
    "        self.params_summ['W_hy'] = np.zeros_like(self.params['W_hy'])\n",
    "        self.params_summ['b_h'] = np.zeros_like(self.params['b_h'])\n",
    "        self.params_summ['b_y'] = np.zeros_like(self.params['b_y'])\n",
    "    \n",
    "    def _params_summation(self, step=None, key=True):\n",
    "        if key:\n",
    "            self.summ_count += 1\n",
    "            self.params_summ['W_xh'] += self.layers['Affine_xh'][step].dW\n",
    "            self.params_summ['W_hh'] += self.layers['Affine_hh'][step].dW\n",
    "            self.params_summ['W_hy'] += self.layers['Affine_hy'][step].dW\n",
    "            self.params_summ['b_h'] += self.layers['Affine_hh'][step].db\n",
    "            self.params_summ['b_y'] += self.layers['Affine_hy'][step].db\n",
    "        else:\n",
    "            for k, v in self.params_summ.items():\n",
    "                self.params_summ[k] = v / self.summ_count\n",
    "\n",
    "    def backward_truncate(self):\n",
    "        # TBPTT\n",
    "        self._params_summation_init()\n",
    "        dht = np.zeros_like(self.h0)\n",
    "        \n",
    "        for t in np.arange(self.T)[::-1]:\n",
    "            dout = self.last_layers[t].backward()\n",
    "            dht_raw = self.layers['Affine_hy'][t].backward(dout)\n",
    "            self.params_summ['W_hy'] += self.layers['Affine_hy'][t].dW\n",
    "            self.params_summ['b_y'] += self.layers['Affine_hy'][t].db\n",
    "            \n",
    "            for bptt_step in np.arange(max(0, t-self.bptt_truncate), t+1)[::-1]:\n",
    "                dat = self.layers['Tanh'][bptt_step].backward(dht_raw) + dht \n",
    "                dht = self.layers['Affine_hh'][bptt_step].backward(dat)\n",
    "                dx = self.layers['Affine_xh'][bptt_step].backward(dat) # dx\n",
    "                self.params_summ['W_xh'] += self.layers['Affine_xh'][bptt_step].dW\n",
    "                self.params_summ['W_hh'] += self.layers['Affine_hh'][bptt_step].dW\n",
    "                self.params_summ['b_h'] += self.layers['Affine_hh'][bptt_step].db\n",
    "\n",
    "    def gradient_check(self, x, t, delta=0.001, th_error=0.1, num_check=3):\n",
    "        ks = list(self.params_summ.keys())\n",
    "        f = lambda w: self.loss(x, t)\n",
    "        for name in ks:\n",
    "            s0 = self.params[name].shape\n",
    "            s1 = self.params_summ[name].shape\n",
    "            assert s0 == s1, \\\n",
    "                \"[Error] dimensions don't match: ({}) params-{} grads-{}\".format(name, s0, s1)\n",
    "            for i in np.arange(num_check):\n",
    "                num_grads = numerical_gradient(f, self.params[name])\n",
    "                back_grads = self.params_summ[name]\n",
    "                rel_error = np.abs(back_grads - num_grads) / (np.abs(back_grads) + np.abs(num_grads))\n",
    "                mask = rel_error > th_error\n",
    "            print(name, mask.sum())"
   ]
  },
  {
   "cell_type": "code",
   "execution_count": 4,
   "metadata": {
    "collapsed": true
   },
   "outputs": [],
   "source": [
    "class chr_coding(object):\n",
    "    def __init__(self):\n",
    "        self._dict = None\n",
    "        self._one_hot_matrix = None\n",
    "        self._dict_reversed = None\n",
    "        \n",
    "    def fit(self, x):\n",
    "        if isinstance(x, str):\n",
    "            x = list(x)\n",
    "        \n",
    "        self._one_hot_matrix = np.eye(len(set(x)))\n",
    "        self._dict = {d: i for i, d in enumerate(list(set(x)))}\n",
    "        self._dict_reversed = {v: k for k, v in self._dict.items()}\n",
    "        \n",
    "    def encode(self, x):\n",
    "        encoded_data = np.array([self._one_hot_matrix[self._dict[d]] for d in x])\n",
    "        return encoded_data\n",
    "    \n",
    "    def decode(self, x, probs=None):\n",
    "        if probs is None:\n",
    "            decoded_data = self._dict_reversed[x]\n",
    "        else:\n",
    "            decoded_data = self._dict_reversed[np.argmax(probs)]\n",
    "        return decoded_data"
   ]
  },
  {
   "cell_type": "code",
   "execution_count": 5,
   "metadata": {
    "collapsed": false
   },
   "outputs": [],
   "source": [
    "x = 'hello world! nice to meet you'\n",
    "data = list(x)\n",
    "\n",
    "encoder = chr_coding()\n",
    "encoder.fit(data)\n",
    "one_hot_data = encoder.encode(data)"
   ]
  },
  {
   "cell_type": "code",
   "execution_count": 6,
   "metadata": {
    "collapsed": false
   },
   "outputs": [],
   "source": [
    "np.random.seed(1234)\n",
    "num_epochs = 4500\n",
    "input_size = one_hot_data.shape[1]\n",
    "hidden_size = 20\n",
    "output_size = one_hot_data.shape[1]\n",
    "seq_len = one_hot_data.shape[0] - 1"
   ]
  },
  {
   "cell_type": "code",
   "execution_count": 7,
   "metadata": {
    "collapsed": true
   },
   "outputs": [],
   "source": [
    "train_x = one_hot_data[:-1]\n",
    "train_y = one_hot_data[1:]"
   ]
  },
  {
   "cell_type": "code",
   "execution_count": 8,
   "metadata": {
    "collapsed": false
   },
   "outputs": [],
   "source": [
    "rnn = Single_layer_RNN(input_size, hidden_size, output_size, 2)\n",
    "optim = Adam()"
   ]
  },
  {
   "cell_type": "code",
   "execution_count": 9,
   "metadata": {
    "collapsed": false
   },
   "outputs": [
    {
     "name": "stdout",
     "output_type": "stream",
     "text": [
      "#0, Loss: 2.822245765980379, test: \"homn hccoeyi wtnuue ocmouytwn\"\n",
      "#100, Loss: 2.2130160498472344, test: \"hrmoo moe ioyuior ioruio moo \"\n",
      "#200, Loss: 1.9846814569906672, test: \"hrlyo lco dor dor do lio lyo \"\n",
      "#300, Loss: 1.927565437569902, test: \"h l!o lco l!o doewyo lyo doo \"\n",
      "#400, Loss: 1.8204272425351995, test: \"h l!o loo l!onioe to l!onlyo \"\n",
      "#500, Loss: 2.054850890060293, test: \"h loo loo loonloonloonloo loo\"\n",
      "#600, Loss: 1.9775739417233993, test: \"h lo  lo  lo nlo nlo nlo  lo \"\n",
      "#700, Loss: 1.9538247955099346, test: \"h lo  lo  lo nlo nlo nlo  lo \"\n",
      "#800, Loss: 1.9356489160366093, test: \"h lo  lo  lo nlo nlo nlo  lo \"\n",
      "#900, Loss: 1.9191112461769932, test: \"h lo  lo  lo nlo nlo nio  lo \"\n",
      "#1000, Loss: 1.8917680271605124, test: \"h lo  lo  lo nio nio nio  lo \"\n",
      "#1100, Loss: 1.8482265580620576, test: \"h lo  lo  lo  lo  do  io  lo \"\n",
      "#1200, Loss: 1.7944946108016715, test: \"h lo  lo  lo nio nio mio  lo \"\n",
      "#1300, Loss: 1.7622684606978358, test: \"helo  lo  lo nio nio mio  lo \"\n",
      "#1400, Loss: 1.790515716039804, test: \"helo  lo  lo nio nlo mio  lo \"\n",
      "#1500, Loss: 1.948392374788449, test: \"helo  lo  lo nwo nio mic miue\"\n",
      "#1600, Loss: 1.7050986747564085, test: \"hell  lo  lo nio nio mio  lo \"\n",
      "#1700, Loss: 1.7264543106098025, test: \"h ll  lo  lo nio nio mio  lo \"\n",
      "#1800, Loss: 1.6266874576926464, test: \"h dlr dor do nwo nwo mior dor\"\n",
      "#1900, Loss: 1.662622361426729, test: \"h ll  lo  lo nic nwc mio  lo \"\n",
      "#2000, Loss: 1.7887619290356802, test: \"h do  do  do nic nwc mil  do \"\n",
      "#2100, Loss: 1.6931881891754503, test: \"h ll  lo  lo nic nlc mil  lo \"\n",
      "#2200, Loss: 1.6093405674046484, test: \"h dl  do  do nic ndc mio  do \"\n",
      "#2300, Loss: 1.5546227182033607, test: \"h dl  do  do nic ndc mio  do \"\n",
      "#2400, Loss: 1.5305188293705392, test: \"h dl  do  do nic nwc mic  do \"\n",
      "#2500, Loss: 1.5933156630454643, test: \"h dl  do  d! nic ndc mio  do \"\n",
      "#2600, Loss: 1.4963811345094975, test: \"h ll  lo  lo nic nlc mio  lo \"\n",
      "#2700, Loss: 1.706667380317427, test: \"h ll  lo  l! nic nlc mil  lo \"\n",
      "#2800, Loss: 1.5170084404099349, test: \"h dl  do  d! nic ndc mio  do \"\n",
      "#2900, Loss: 1.4241238078353995, test: \"h dl  do  d! nic ndo mic  do \"\n",
      "#3000, Loss: 1.6355786567160215, test: \"h dl  do ld! nic ndc mil  do \"\n",
      "#3100, Loss: 1.4706627551856624, test: \"h dl  do  d! nic ndc mio  do \"\n",
      "#3200, Loss: 1.4041315808837826, test: \"h dl  do  d! nic ndo mic  do \"\n",
      "#3300, Loss: 1.6620991117516677, test: \"h dl  do ld! nic ndc mil  do \"\n",
      "#3400, Loss: 1.5947739089553359, test: \"h dl  do ld! nic ndc mil  do \"\n",
      "#3500, Loss: 1.4959218673846697, test: \"h dl  do ld! nic ndc mio  do \"\n",
      "#3600, Loss: 1.4078256361819288, test: \"h dl  do ld! nic ndc mio  do \"\n",
      "#3700, Loss: 1.3621684951645538, test: \"h dl  do ld! nic ndo mio  do \"\n",
      "#3800, Loss: 1.3007596045028584, test: \"h dlr dorld!rnic ndo mec  dor\"\n",
      "#3900, Loss: 1.6227943433867071, test: \"h dl  do ld! nic ndc mil  do \"\n",
      "#4000, Loss: 1.5823034161470229, test: \"h dl  do ld! nic ndc mil  do \"\n",
      "#4100, Loss: 1.552895128308651, test: \"h dl  do ld! nic ndc mil  do \"\n",
      "#4200, Loss: 1.522109375234851, test: \"h dl  do ld! nic ndc mil  do \"\n",
      "#4300, Loss: 1.481695630596581, test: \"h dl  do ld! nic ndc mil  do \"\n",
      "#4400, Loss: 1.426615000850024, test: \"h dl  do ld! nic ndc mio  do \"\n",
      "#4499, Loss: 1.3765952514664994, test: \"h dl  do ld! nic ndc mio  do \"\n"
     ]
    }
   ],
   "source": [
    "total_loss_list = []\n",
    "\n",
    "for epoch in range(num_epochs):\n",
    "    test_string = 'h'\n",
    "    # forward\n",
    "    total_loss = rnn.loss(train_x, train_y)\n",
    "    \n",
    "    # backward\n",
    "    rnn.backward()\n",
    "    \n",
    "    optim.update(rnn.params, rnn.params_summ)\n",
    "    \n",
    "    # test\n",
    "    predicted_idx = rnn.predict(train_x)\n",
    "    for idx in predicted_idx:\n",
    "        test_string += encoder.decode(idx)\n",
    "    if epoch % 100 == 0:\n",
    "        print('#{}, Loss: {}, test: \"{}\"'.format(epoch, total_loss, test_string))\n",
    "    elif epoch == (num_epochs-1):\n",
    "        print('#{}, Loss: {}, test: \"{}\"'.format(epoch, total_loss, test_string))\n",
    "\n",
    "    total_loss_list.append(total_loss)    "
   ]
  },
  {
   "cell_type": "code",
   "execution_count": 10,
   "metadata": {
    "collapsed": false
   },
   "outputs": [
    {
     "data": {
      "text/plain": [
       "[<matplotlib.lines.Line2D at 0x1c1c18ba90>]"
      ]
     },
     "execution_count": 10,
     "metadata": {},
     "output_type": "execute_result"
    },
    {
     "data": {
      "image/png": "[encoded data removed]",
      "text/plain": [
       "<matplotlib.figure.Figure at 0x1c167693c8>"
      ]
     },
     "metadata": {},
     "output_type": "display_data"
    }
   ],
   "source": [
    "plt.plot(total_loss_list)"
   ]
  },
  {
   "cell_type": "code",
   "execution_count": 11,
   "metadata": {
    "collapsed": true
   },
   "outputs": [],
   "source": [
    "rnn = Single_layer_RNN(input_size, hidden_size, output_size, 4)\n",
    "optim = Adam()"
   ]
  },
  {
   "cell_type": "code",
   "execution_count": 12,
   "metadata": {
    "collapsed": false
   },
   "outputs": [
    {
     "name": "stdout",
     "output_type": "stream",
     "text": [
      "#0, Loss: 2.849657981617288, test: \"hruturrtmyntuut yetmdututmutd\"\n",
      "#100, Loss: 2.2707717379138685, test: \"h oto  etlot  t eetoe tet tot\"\n",
      "#200, Loss: 1.916474285667776, test: \"h lto mtrlot niceetoe t e yo \"\n",
      "#300, Loss: 1.6382992753025376, test: \"helto wtrldt nicemtoe t e you\"\n",
      "#400, Loss: 1.3925130363765292, test: \"helto wtrld! nicemto me t you\"\n",
      "#500, Loss: 1.1884655269923872, test: \"heloo wtrld! nicemto me t you\"\n",
      "#600, Loss: 1.0291055337256665, test: \"heloo wtrld! nicemto me t you\"\n",
      "#700, Loss: 0.9019874331660666, test: \"heloo wtrld! nice to meot you\"\n",
      "#800, Loss: 0.7875043588659938, test: \"heloo wirld! nice to meet you\"\n",
      "#900, Loss: 0.6791683432954582, test: \"heloo world! nice to meet you\"\n",
      "#1000, Loss: 0.6071147996834968, test: \"hello world! nice to meet you\"\n",
      "#1100, Loss: 0.5772032259923012, test: \"hello world! nice to meet you\"\n",
      "#1200, Loss: 0.5175250189365059, test: \"hello world! nice to meet you\"\n",
      "#1300, Loss: 0.4628002971768628, test: \"hello world! nice to meet you\"\n",
      "#1400, Loss: 0.41837477834779857, test: \"hello world! nice to meet you\"\n",
      "#1500, Loss: 0.38110680338214864, test: \"hello world! nice to meet you\"\n",
      "#1600, Loss: 0.3489951510078058, test: \"hello world! nice to meet you\"\n",
      "#1700, Loss: 0.3207759705989311, test: \"hello world! nice to meet you\"\n",
      "#1800, Loss: 0.2956367741358572, test: \"hello world! nice to meet you\"\n",
      "#1900, Loss: 0.27304046136251053, test: \"hello world! nice to meet you\"\n",
      "#2000, Loss: 0.2526039649090607, test: \"hello world! nice to meet you\"\n",
      "#2100, Loss: 0.23401858357327185, test: \"hello world! nice to meet you\"\n",
      "#2200, Loss: 0.21700770626181268, test: \"hello world! nice to meet you\"\n",
      "#2300, Loss: 0.20131532466707514, test: \"hello world! nice to meet you\"\n",
      "#2400, Loss: 0.1867154530872055, test: \"hello world! nice to meet you\"\n",
      "#2500, Loss: 0.17302971115194365, test: \"hello world! nice to meet you\"\n",
      "#2600, Loss: 0.16013975017592355, test: \"hello world! nice to meet you\"\n",
      "#2700, Loss: 0.14798604403791632, test: \"hello world! nice to meet you\"\n",
      "#2800, Loss: 0.13655360352289378, test: \"hello world! nice to meet you\"\n",
      "#2900, Loss: 0.12585200215121012, test: \"hello world! nice to meet you\"\n",
      "#3000, Loss: 0.11589730955733914, test: \"hello world! nice to meet you\"\n",
      "#3100, Loss: 0.10669947563368498, test: \"hello world! nice to meet you\"\n",
      "#3200, Loss: 0.09825530418694396, test: \"hello world! nice to meet you\"\n",
      "#3300, Loss: 0.09054609667446054, test: \"hello world! nice to meet you\"\n",
      "#3400, Loss: 0.0835389207819931, test: \"hello world! nice to meet you\"\n",
      "#3500, Loss: 0.07719008125434214, test: \"hello world! nice to meet you\"\n",
      "#3600, Loss: 0.07144911851844184, test: \"hello world! nice to meet you\"\n",
      "#3700, Loss: 0.06626217522055973, test: \"hello world! nice to meet you\"\n",
      "#3800, Loss: 0.06157450896015996, test: \"hello world! nice to meet you\"\n",
      "#3900, Loss: 0.05733245958498676, test: \"hello world! nice to meet you\"\n",
      "#4000, Loss: 0.05348509439364927, test: \"hello world! nice to meet you\"\n",
      "#4100, Loss: 0.049985493616942454, test: \"hello world! nice to meet you\"\n",
      "#4200, Loss: 0.046791558131343836, test: \"hello world! nice to meet you\"\n",
      "#4300, Loss: 0.04386631170125355, test: \"hello world! nice to meet you\"\n",
      "#4400, Loss: 0.04117778320912885, test: \"hello world! nice to meet you\"\n",
      "#4499, Loss: 0.038722443913388395, test: \"hello world! nice to meet you\"\n"
     ]
    }
   ],
   "source": [
    "total_loss_list = []\n",
    "\n",
    "for epoch in range(num_epochs):\n",
    "    test_string = 'h'\n",
    "    # forward\n",
    "    total_loss = rnn.loss(train_x, train_y)\n",
    "    \n",
    "    # backward\n",
    "    rnn.backward_truncate()\n",
    "    \n",
    "    optim.update(rnn.params, rnn.params_summ)\n",
    "    \n",
    "    # test\n",
    "    predicted_idx = rnn.predict(train_x)\n",
    "    for idx in predicted_idx:\n",
    "        test_string += encoder.decode(idx)\n",
    "    if epoch % 100 == 0:\n",
    "        print('#{}, Loss: {}, test: \"{}\"'.format(epoch, total_loss, test_string))\n",
    "    elif epoch == (num_epochs-1):\n",
    "        print('#{}, Loss: {}, test: \"{}\"'.format(epoch, total_loss, test_string))\n",
    "\n",
    "    total_loss_list.append(total_loss)"
   ]
  },
  {
   "cell_type": "code",
   "execution_count": 13,
   "metadata": {
    "collapsed": false
   },
   "outputs": [
    {
     "data": {
      "text/plain": [
       "[<matplotlib.lines.Line2D at 0x1c1c1c3860>]"
      ]
     },
     "execution_count": 13,
     "metadata": {},
     "output_type": "execute_result"
    },
    {
     "data": {
      "image/png": "[encoded data removed]",
      "text/plain": [
       "<matplotlib.figure.Figure at 0x1c16748f98>"
      ]
     },
     "metadata": {},
     "output_type": "display_data"
    }
   ],
   "source": [
    "plt.plot(total_loss_list)"
   ]
  }
 ],
 "metadata": {
  "kernelspec": {
   "display_name": "Python [default]",
   "language": "python",
   "name": "python3"
  },
  "language_info": {
   "codemirror_mode": {
    "name": "ipython",
    "version": 3
   },
   "file_extension": ".py",
   "mimetype": "text/x-python",
   "name": "python",
   "nbconvert_exporter": "python",
   "pygments_lexer": "ipython3",
   "version": "3.6.0"
  }
 },
 "nbformat": 4,
 "nbformat_minor": 2
}
