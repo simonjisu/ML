{
 "cells": [
  {
   "cell_type": "markdown",
   "metadata": {},
   "source": [
    "# Machine Learning"
   ]
  },
  {
   "cell_type": "markdown",
   "metadata": {},
   "source": [
    "## Supervised Learning\n",
    "\n",
    "Know the ture values & provide examples of the true value\n",
    "\n",
    "* Cases:\n",
    "    * spam filitering\n",
    "    * automatic grading\n",
    "    * automatic categorization\n",
    "* Methodologies\n",
    "    * Classification: estimating a discrete dependent valus from observations\n",
    "    * Regression: estimating a (continuous) dependent valus from observations"
   ]
  },
  {
   "cell_type": "markdown",
   "metadata": {},
   "source": [
    "## Unsupervised Learning\n",
    "Don't know the true values & cannot provide examples of the true value\n",
    "\n",
    "* Cases:\n",
    "    * Discovering clusters\n",
    "    * Discovering latent factors\n",
    "    * Discovering graph structures\n",
    "* Methodologies\n",
    "    * Clustering: estimating sets and affiliations of instances to the sets\n",
    "    * Filtering: estimating underlying and fundamental signals from the mixture of signals and noises"
   ]
  },
  {
   "cell_type": "markdown",
   "metadata": {},
   "source": [
    "## Reinforcement Learning"
   ]
  }
 ],
 "metadata": {
  "kernelspec": {
   "display_name": "Python [conda root]",
   "language": "python",
   "name": "conda-root-py"
  },
  "language_info": {
   "codemirror_mode": {
    "name": "ipython",
    "version": 3
   },
   "file_extension": ".py",
   "mimetype": "text/x-python",
   "name": "python",
   "nbconvert_exporter": "python",
   "pygments_lexer": "ipython3",
   "version": "3.6.0"
  }
 },
 "nbformat": 4,
 "nbformat_minor": 2
}
