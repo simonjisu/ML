{
 "cells": [
  {
   "cell_type": "markdown",
   "metadata": {},
   "source": [
    "Learn the restriction of these models"
   ]
  },
  {
   "cell_type": "markdown",
   "metadata": {},
   "source": [
    "# Rule Based Machine Learning\n",
    "\n",
    "## Definition of Machine Learning\n",
    "\n",
    "* A computer progaram is said to:\n",
    "    * learn from experience $E$\n",
    "    * with respect to some class of tasks $T$\n",
    "    * and performance measure $P$, if its performance at tasks in $T$, as measured by $P$, improves with experience $E$\n",
    "    \n",
    "* More experience $\\rightarrow$ more performance"
   ]
  },
  {
   "cell_type": "markdown",
   "metadata": {},
   "source": [
    "## A Perfect World for Rule Based Learning (Example)\n",
    "\n",
    "Imagine a perfect world: this means\n",
    "\n",
    "* No observation errors, no inconsistent observations\n",
    "* No stochastic elements in the system we observe(no random)\n",
    "* Full information in the observations to regenerate the system\n",
    "\n",
    "Classify a task:\n",
    "\n",
    "Sky, Temp, Humid, Wind, Water, Forecast $\\rightarrow$ Enjoy Sport\n",
    "\n",
    "|Sky|Temp|Humid|Wind|Water|Forecast|Enjoy Sport|\n",
    "|:-:|:-:|:-:|:-:|:-:|:-:|:-:|\n",
    "|Sunny|Warm|Normal|Strong|Warm|Same|Yes|\n",
    "|Sunny|Warm|High|Strong|Warm|Same|Yes|\n",
    "|Rainy|Cold|High|Strong|Warm|Change|No|\n",
    "|Sunny|Warm|High|Strong|Cool|Change|Yes|\n"
   ]
  },
  {
   "cell_type": "markdown",
   "metadata": {},
   "source": [
    "## Function Approximation\n",
    "\n",
    "Machine learning = the effort of producing a better approximate function\n",
    "\n",
    "* Instance $x$: One example\n",
    "    * Feature $O$: \"Sunny,Warm,Normal,Strong,Warm,Same\"\n",
    "    * Lable: $Y$: \"Yes\"\n",
    "* Training Dataset $D$: Collections of all instances\n",
    "* Hypotheses $H$: A function that may explain the world\n",
    "    * Potentially possible function to turn $X$ into $Y$\n",
    "    * example $h_i$: \"Sunny,?,?,?,?,Same\" $\\rightarrow$ \"Yes\"\n",
    "* Target Function $c$: The real world function (we don't know)\n",
    "* Object: make $H$ closer to $c$\n",
    "\n",
    "\"?\" Don't care to decide \"Enjoy Sport\" "
   ]
  },
  {
   "cell_type": "markdown",
   "metadata": {},
   "source": [
    "![](./figs/hypothesis.png)"
   ]
  },
  {
   "cell_type": "markdown",
   "metadata": {},
   "source": [
    "Define Hypotheses spaces and Instances spaces, then find a mapping function\n",
    "\n",
    "* Specific hypotheses: more restriction\n",
    "* Genenral hypotheses: less restriction"
   ]
  }
 ],
 "metadata": {
  "kernelspec": {
   "display_name": "Python [conda root]",
   "language": "python",
   "name": "conda-root-py"
  },
  "language_info": {
   "codemirror_mode": {
    "name": "ipython",
    "version": 3
   },
   "file_extension": ".py",
   "mimetype": "text/x-python",
   "name": "python",
   "nbconvert_exporter": "python",
   "pygments_lexer": "ipython3",
   "version": "3.6.0"
  }
 },
 "nbformat": 4,
 "nbformat_minor": 2
}
