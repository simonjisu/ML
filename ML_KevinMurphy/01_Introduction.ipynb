{
 "cells": [
  {
   "cell_type": "markdown",
   "metadata": {},
   "source": [
    "# 1. 인트로"
   ]
  },
  {
   "cell_type": "markdown",
   "metadata": {},
   "source": [
    "## 1.1 머신러닝: what & why?\n",
    "\n",
    "머신러닝:  a set of methods that can automatically detect patterns in data, and then use the uncovered patterns to predict future data, or to perform other kinds of decision making under uncertainty (such as planning how to\n",
    "collect more data!)."
   ]
  },
  {
   "cell_type": "markdown",
   "metadata": {},
   "source": [
    "### 1.1.1 Types of machine learning\n",
    "\n",
    "**predictive or supervised learning**:\n",
    "\n",
    "goal: learn a mapping from inputs $x$ to outputs $y$, given a labeled set of input-output pairs $D = \\{(x_i, y_i)\\}_{i=1}^N$. \n",
    "\n",
    "* $D$: training set\n",
    "* $N$: Number of training examples\n",
    "\n",
    "In the simplest setting, each training input $x_i$ = $D$-demensional vector of numbers, representing. called **features, attributes or covariates**. In general, $x_i$ could be complex structerd"
   ]
  },
  {
   "cell_type": "code",
   "execution_count": null,
   "metadata": {
    "collapsed": true
   },
   "outputs": [],
   "source": []
  }
 ],
 "metadata": {
  "kernelspec": {
   "display_name": "Python [conda root]",
   "language": "python",
   "name": "conda-root-py"
  },
  "language_info": {
   "codemirror_mode": {
    "name": "ipython",
    "version": 3
   },
   "file_extension": ".py",
   "mimetype": "text/x-python",
   "name": "python",
   "nbconvert_exporter": "python",
   "pygments_lexer": "ipython3",
   "version": "3.6.0"
  }
 },
 "nbformat": 4,
 "nbformat_minor": 2
}
