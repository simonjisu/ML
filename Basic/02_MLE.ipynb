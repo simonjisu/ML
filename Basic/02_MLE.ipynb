{
 "cells": [
  {
   "cell_type": "markdown",
   "metadata": {},
   "source": [
    "# MLE"
   ]
  },
  {
   "cell_type": "markdown",
   "metadata": {
    "collapsed": true
   },
   "source": [
    "## Thumbtack Question\n",
    "* A gambling site with a game of filipping a thumbtack"
   ]
  },
  {
   "cell_type": "code",
   "execution_count": 136,
   "metadata": {
    "collapsed": false
   },
   "outputs": [],
   "source": [
    "import sys\n",
    "import numpy as np\n",
    "from IPython.display import clear_output\n",
    "\n",
    "class Thumbtack(object):\n",
    "    def __init__(self, theta=0.4, start_money=100, rate=2):\n",
    "        \"\"\"\n",
    "        nails up case = H\n",
    "        nails down case = T\n",
    "        \"\"\"\n",
    "        self.theta = theta # P(H)\n",
    "        self.money = start_money\n",
    "        self.rate = rate\n",
    "        self.nhops = 1\n",
    "        \n",
    "        self.bet_switch = False\n",
    "        self.x = None\n",
    "        \n",
    "    def start(self):\n",
    "        if self.check_left_money():\n",
    "            clear_output()\n",
    "            self.bet_switch = True\n",
    "            print(\"[Money Left] $ {}\".format(self.money))\n",
    "            self.bet()\n",
    "            print(\"Running...\")\n",
    "            result = self.simulate_binomial()\n",
    "            self.print_result(result)\n",
    "        else:\n",
    "            self.recharge()\n",
    "        \n",
    "            \n",
    "    def simulate_binomial(self):\n",
    "        toss = np.random.binomial(self.nhops, self.theta)\n",
    "        return toss\n",
    "    \n",
    "    def print_result(self, result):\n",
    "        if result:\n",
    "            result = \"Win\"\n",
    "            self.money += self.bet_amount * self.rate\n",
    "        else:\n",
    "            result = \"Lose\"\n",
    "            self.money -= self.bet_amount * self.rate\n",
    "            \n",
    "        print(result + \"!!!\")\n",
    "        print(\"=\"*30)\n",
    "        print(\"[Money Left] $ {}\".format(self.money))\n",
    "        \n",
    "    def bet(self):\n",
    "        while self.bet_switch:\n",
    "            self.x = input(\"your bet: \")\n",
    "            try:\n",
    "                # check type\n",
    "                isinstance(int(self.x), int)\n",
    "                self.x = int(self.x)\n",
    "                if self.check_money():\n",
    "                    self.bet_switch = False\n",
    "            except ValueError:\n",
    "                print(\"betting number must be int type. ex) 10, 4, 2 ...\")\n",
    "                \n",
    "    def check_money(self):\n",
    "        if self.money - self.x < 0:\n",
    "            print(\"You don't have enough money. [Money Left] $ {}\".format(self.money) )\n",
    "            return False\n",
    "        elif self.x == 0:\n",
    "            print(\"bet must be larger than 0\")\n",
    "            return False\n",
    "        else:\n",
    "            self.bet_amount = self.x\n",
    "            self.x = None\n",
    "            return True\n",
    "        \n",
    "    def check_left_money(self):\n",
    "        if self.money > 0:\n",
    "            return True\n",
    "        else:\n",
    "            return False\n",
    "    \n",
    "    def recharge(self):\n",
    "        if self.check_left_money():\n",
    "            print(\"Cannot recharge, Since You have money. [Money Left] $ {}\".format(self.money))\n",
    "            return None \n",
    "        else:\n",
    "            print(\"You don't have enough money. Get you money!!\")\n",
    "            recharge_switch = True\n",
    "            while recharge_switch:\n",
    "                \n",
    "                re_money = input(\"rechange amount: \")\n",
    "                try:\n",
    "                    # check type\n",
    "                    isinstance(int(re_money), int)\n",
    "                    re_money = int(re_money)\n",
    "                    if re_money > 100:\n",
    "                        print(\"cannot recharge money larger than $100.\")\n",
    "                    else:\n",
    "                        self.money = re_money\n",
    "                        recharge_switch = False\n",
    "                except ValueError:\n",
    "                    print(\"money must be int type. ex) 10, 4, 2 ...\")"
   ]
  },
  {
   "cell_type": "code",
   "execution_count": 137,
   "metadata": {
    "collapsed": false
   },
   "outputs": [],
   "source": [
    "game = Thumbtack()"
   ]
  },
  {
   "cell_type": "code",
   "execution_count": null,
   "metadata": {
    "collapsed": true
   },
   "outputs": [],
   "source": [
    "game.start()"
   ]
  },
  {
   "cell_type": "markdown",
   "metadata": {},
   "source": [
    "## Binomial Distribution\n",
    "A discrete probability distritubution:\n",
    "* Of the number of successes in a sequence of n independent yes/no experiments, and each success has the probability of $\\theta$ - Bernoulli experiment\n",
    "* Flips Condition: i.i.d\n",
    "    * Independent events\n",
    "    * Identically distributed according to binomial distribution\n",
    "\n",
    "So, Let's say nails up case as \"H\", nails down case as \"T\". Then we can define probability\n",
    "\n",
    "$\\begin{cases} P(H) = \\theta \\\\ P(T) = 1 - \\theta \\end{cases}$\n",
    "\n"
   ]
  },
  {
   "cell_type": "markdown",
   "metadata": {},
   "source": [
    "If there is a simulation data \"HHTHT\", then we can calculate its probability:\n",
    "\n",
    "$$P(HHTHT) = \\theta \\theta (1- \\theta) \\theta (1- \\theta) = \\theta^3 (1-\\theta)^2$$\n",
    "\n",
    "Let's say:\n",
    "* $D$ as Data = \"H,H,T,H,T\"\n",
    "* $n = 5$\n",
    "* $k = a_H=3$\n",
    "* $p=\\theta$\n",
    "\n",
    "The probability of simulation data \"D\" given $\\theta$ can be define as below:\n",
    "\n",
    "$$P(D \\vert \\theta) = \\theta^{a_H}(1-\\theta)^{a_T}$$"
   ]
  },
  {
   "cell_type": "markdown",
   "metadata": {},
   "source": [
    "## Maximum Likelihood Estimation\n",
    "\n",
    "* Data: we have observed the sequence data of $D$ with $a_H$ and $a_T$ \n",
    "* hypothesis: the gambling result of thumbtack follows the binomial distribution of $\\theta$\n",
    "* How to make our hypothesis strong? -> find the model($\\theta$) that can well explain the data\n",
    "    * Find out a better distribution of the observation\n",
    "    * Find out the best candidate of $\\theta$\n",
    "\n",
    "**MLE(Maximum Likelihood Estimation)**\n",
    "* Choose $\\theta$ that maximize the probability of observed data\n",
    "\n",
    "$$\\hat{\\theta} = \\underset{\\theta}{\\arg \\max} P(D \\vert \\theta))$$"
   ]
  },
  {
   "cell_type": "markdown",
   "metadata": {},
   "source": [
    "## Application to Thumbtack: MLE Calculation\n",
    "\n",
    "$$\\hat{\\theta} = \\underset{\\theta}{\\arg \\max}\\ P(D \\vert \\theta)) = \\underset{\\theta}{\\arg \\max}\\ \\theta^{a_H}(1-\\theta)^{a_T} \\quad \\cdots (1)$$\n",
    "\n",
    "However, it is hard to calculate, so we use log function technic.\n",
    "* Since log function is monotonic increase function, so \n",
    "\n",
    "$$\\underset{\\theta}{\\arg \\max}\\ P(D \\vert \\theta) = \\underset{\\theta}{\\arg \\max}\\ \\ln \\big( P(D \\vert \\theta) \\big)$$\n",
    "\n",
    "Then our function $(1)$ can be written like this,\n",
    "\n",
    "$$\\begin{aligned} \n",
    "\\hat{\\theta} &= \\underset{\\theta}{\\arg \\max}\\ \\ln \\big( P(D \\vert \\theta) \\big) \\\\\n",
    "&= \\underset{\\theta}{\\arg \\max}\\ \\ln \\big( \\theta^{a_H}(1-\\theta)^{a_T} \\big) \\\\\n",
    "&= \\underset{\\theta}{\\arg \\max}\\ a_H \\ln \\theta + a_T \\ln (1-\\theta) \\quad \\cdots (2)\n",
    "\\end{aligned}$$\n",
    "\n",
    "Then, we do optimization using derivative setting $(2)$ to zero.\n",
    "\n",
    "$$\\begin{aligned} \n",
    "\\dfrac{d}{d \\theta} \\big( a_H \\ln \\theta + a_T \\ln (1-\\theta) \\big) = 0 \\\\\n",
    "\\dfrac{a_H}{\\theta} - \\dfrac{a_T}{\\theta} = 0\\\\\n",
    "\\end{aligned}$$\n",
    "\n",
    "So, $\\theta = \\dfrac{a_H}{a_H+a_T}$, and this $\\theta$ becomes the best candidate from the MLE perspective.\n",
    "\n",
    "$$\\hat{\\theta} = \\dfrac{a_H}{a_H+a_T}$$"
   ]
  },
  {
   "cell_type": "markdown",
   "metadata": {
    "collapsed": true
   },
   "source": [
    "## Number of Trials\n",
    "\n",
    "Remember $\\hat{\\theta}$ is just an inference(guess) from our data, it is not the \"real\" parameter in the world.\n",
    "\n",
    "* Additional trials reduce the error of our estimation\n",
    "\n",
    "Let's say $\\theta^*$ is the true parameter of the thumbtack flipping for any error, $\\varepsilon > 0$\n",
    "\n",
    "simple upper bound on the probability provided by [Hoeffding's inequality](https://en.wikipedia.org/wiki/Hoeffding%27s_inequality)\n",
    "\n",
    "$$P(\\vert \\hat{\\theta} - \\theta^* \\vert \\geq \\varepsilon) \\leq 2e^{-N\\varepsilon^2}$$\n",
    "\n",
    "* $N$: Number of Trials\n",
    "* $\\varepsilon$: error bound \n",
    "* when $\\varepsilon$ or $N$ get bigger, the probability of error bound will be smaller.\n",
    "\n",
    "This process is **Probably Approximate Correct (PAC)** learning. [Wiki link](https://en.wikipedia.org/wiki/Probably_approximately_correct_learning)"
   ]
  },
  {
   "cell_type": "code",
   "execution_count": null,
   "metadata": {
    "collapsed": true
   },
   "outputs": [],
   "source": []
  }
 ],
 "metadata": {
  "kernelspec": {
   "display_name": "Python [conda root]",
   "language": "python",
   "name": "conda-root-py"
  },
  "language_info": {
   "codemirror_mode": {
    "name": "ipython",
    "version": 3
   },
   "file_extension": ".py",
   "mimetype": "text/x-python",
   "name": "python",
   "nbconvert_exporter": "python",
   "pygments_lexer": "ipython3",
   "version": "3.6.0"
  }
 },
 "nbformat": 4,
 "nbformat_minor": 2
}
