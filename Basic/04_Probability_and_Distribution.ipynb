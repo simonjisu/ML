{
 "cells": [
  {
   "cell_type": "markdown",
   "metadata": {},
   "source": [
    "# Probability and Distribution"
   ]
  },
  {
   "cell_type": "markdown",
   "metadata": {},
   "source": [
    "## Probability\n",
    "\n",
    "Let's define all the things happen in the whole world as $\\Omega$ and there are two cases happend in the world named as $E_1, E_2$\n",
    "\n",
    "$$P(E) \\in R,\\ \\quad E \\in \\Omega$$\n",
    "\n",
    "with restriction below\n",
    "\n",
    "$$\\begin{aligned} P(E) & \\geq 0 \\\\ P(\\Omega) & = 1 \\\\ \\end{aligned}$$\n",
    "\n",
    "what are these function means? there is a mapping function $P$, and $E$ is input of the function, finally the result of the function is a continuous value $R$, which is larger than $0$\n",
    "\n",
    "* Subsequent characteristics:\n",
    "    * if $A \\subseteq B$ thet $P(A) \\leq P(B)$\n",
    "    * $P(\\phi) = 0$\n",
    "    * $0 \\leq P(E) \\leq 1$\n",
    "    * $P(A \\cup B) = P(A) + P(B) - P(A \\cap B)$\n",
    "    * $P(E^c) = 1-P(E)$"
   ]
  },
  {
   "cell_type": "markdown",
   "metadata": {},
   "source": [
    "## Conditional Probability\n",
    "\n",
    "We often do not handle the universe $\\Omega$, so we focus on a condition **Scope**.\n",
    "\n",
    "* $P(A \\vert B) = \\dfrac{P(A \\cap B)}{P(B)} = \\dfrac{P(B \\vert A) P(A)}{P(B)}$\n",
    "* $P(A) = \\sum_n P(A \\vert B_n) P(B_n)$"
   ]
  },
  {
   "cell_type": "markdown",
   "metadata": {},
   "source": [
    "## Probability Distribution\n",
    "\n",
    "* Probability Distribution Assigns\n",
    "* A function mapping an event to a probability\n",
    "\n",
    "for example:\n",
    "\n",
    "$f(x) = \\dfrac{e^{-\\frac{1}{2}x^2 } } {\\sqrt{2\\pi} }$\n",
    "\n",
    "left side $x$ means an event, right side is function value for $x$\n",
    "\n",
    "* PDF(Probability Density Function)\n",
    "* CDF(Cumulative distribution Function): summation of all the event probability."
   ]
  },
  {
   "cell_type": "markdown",
   "metadata": {},
   "source": [
    "### Normal distribution\n",
    "\n",
    "* Continuous numerical value\n",
    "\n",
    "$$f(x; \\mu, \\sigma) = \\dfrac{1}{\\sigma \\sqrt{2 \\pi} } e^{-\\dfrac{(x-\\mu)^2}{2\\sigma^2} }$$\n",
    "\n",
    "* Mean: $\\mu$\n",
    "* Variance: $\\sigma^2$\n",
    "\n",
    "### Beta distribution\n",
    "\n",
    "* Continuous numerical value\n",
    "\n",
    "$$\\begin{aligned} \n",
    "f(\\theta; \\alpha, \\beta) &= \\dfrac{\\theta^{\\alpha-1} (1-\\theta)^{\\beta-1} }{B(\\alpha, \\beta)} \\\\\n",
    "B(\\alpha, \\beta) &= \\dfrac{\\Gamma(\\alpha)\\Gamma(\\beta)}{\\Gamma(\\alpha+\\beta)} \\\\\n",
    "\\Gamma(\\alpha) &= (\\alpha-1)!,\\ \\alpha \\in N^{+}\n",
    "\\end{aligned}$$\n",
    "\n",
    "* Mean: $\\dfrac{\\alpha}{\\alpha + \\beta}$\n",
    "* Variance: $\\dfrac{\\alpha \\beta}{(\\alpha + \\beta)^2(\\alpha + \\beta + 1)}$\n",
    "\n",
    "\n",
    "vs. normal dist.: normal has long tail, beta is not\n",
    "\n",
    "확률을 모델링 할때 보통 씀\n",
    "\n"
   ]
  },
  {
   "cell_type": "markdown",
   "metadata": {},
   "source": [
    "### Binomial Distribution\n",
    "\n",
    "* Discrete values\n",
    "\n",
    "$$f(\\theta; n, p) = \\begin{pmatrix} n \\\\ p \\end{pmatrix} p^k(1-p)^{n-k}, \\ \\begin{pmatrix} n \\\\ p \\end{pmatrix}= \\dfrac{n!}{k!(n-k)!}$$\n",
    "\n",
    "* Mean: $np$\n",
    "* Variance: $np(1-p)$"
   ]
  },
  {
   "cell_type": "markdown",
   "metadata": {},
   "source": [
    "### Multinomial Distribution\n",
    "\n",
    "* Discrete values\n",
    "* The generalization of the binomial distribution\n",
    "\n",
    "$$f(x_1, \\cdots, x_k; n, p_1, \\cdots, p_k) = \\dfrac{n!}{x_1!\\cdots x_k!}p_1^{x_1} \\cdots p_k^{x_k}$$\n",
    "\n",
    "* Mean: $E(x_i) = np_i$\n",
    "* Variance: $Var(x_i) = np_i(1-p_i)$\n",
    "\n",
    "\n",
    "\n"
   ]
  }
 ],
 "metadata": {
  "kernelspec": {
   "display_name": "Python [conda root]",
   "language": "python",
   "name": "conda-root-py"
  },
  "language_info": {
   "codemirror_mode": {
    "name": "ipython",
    "version": 3
   },
   "file_extension": ".py",
   "mimetype": "text/x-python",
   "name": "python",
   "nbconvert_exporter": "python",
   "pygments_lexer": "ipython3",
   "version": "3.6.0"
  }
 },
 "nbformat": 4,
 "nbformat_minor": 2
}
