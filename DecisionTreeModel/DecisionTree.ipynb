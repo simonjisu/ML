{
 "cells": [
  {
   "cell_type": "markdown",
   "metadata": {},
   "source": [
    "### **엔트로피 계산과 분류 과정**"
   ]
  },
  {
   "cell_type": "markdown",
   "metadata": {},
   "source": [
    "* 엔트로피: $H[Y] = -\\sum_{k=1}^K p(y_k) \\log_2 p(y_k)$\n",
    "\n",
    "* 조건부 엔트로피: $H[Y \\mid X] = - \\sum_i \\sum_j \\,p(x_i, y_j) \\log_2 p(y_j \\mid x_i)$\n",
    "\n",
    "** 분류과정**\n",
    "\n",
    "1. 어떤 기준으로 분류 후에 histogram으로 나눈후 조건부 엔트로피를 계산 함\n",
    "2. 이전 entropy와 새로구한 조건부 엔트로피의 차이(:=Infomation Gain)이 최대 인 것을 best feature로 선택한다\n"
   ]
  },
  {
   "cell_type": "markdown",
   "metadata": {},
   "source": [
    "\n",
    "### **데이터가 discrete 인 경우**"
   ]
  },
  {
   "cell_type": "markdown",
   "metadata": {},
   "source": [
    "아래와 같은 데이터 셋이면"
   ]
  },
  {
   "cell_type": "markdown",
   "metadata": {},
   "source": [
    "| f1 | f2 | f3 | y |\n",
    "|:-:|:-:|:-:|:-:|\n",
    "|0|1|1| yes|\n",
    "|0|1|0| no|\n",
    "|1|1|1| no|\n",
    "|0|1|0| no|\n",
    "|0|0|1| no|\n",
    "|1|0|1| yes|"
   ]
  },
  {
   "cell_type": "markdown",
   "metadata": {},
   "source": [
    "#### **1. base entropy: 분류가 안되었을 때의 entropy**"
   ]
  },
  {
   "cell_type": "markdown",
   "metadata": {},
   "source": [
    "|y=yes|y=no|total|\n",
    "|:-:|:-:|:-:|\n",
    "|2|4|6|"
   ]
  },
  {
   "cell_type": "markdown",
   "metadata": {},
   "source": [
    "$E_{base} = -[\\ P(y_{=yes})\\log{P(y_{=yes})} + P(y_{=no})\\log{P(y_{=no})}\\ ]\\\\\n",
    "= -(\\frac{2}{6}\\log{\\frac{2}{6}}+\\frac{4}{6}\\log{\\frac{4}{6}})$"
   ]
  },
  {
   "cell_type": "code",
   "execution_count": 1,
   "metadata": {
    "collapsed": false
   },
   "outputs": [
    {
     "data": {
      "text/plain": [
       "0.91829583405448956"
      ]
     },
     "execution_count": 1,
     "metadata": {},
     "output_type": "execute_result"
    }
   ],
   "source": [
    "Ebase = -((2/6)*np.log2(2/6) + (4/6)*np.log2(4/6))\n",
    "Ebase"
   ]
  },
  {
   "cell_type": "markdown",
   "metadata": {},
   "source": [
    "#### **2. 이제 feature별로 조건부 엔트로피를 구하고 Infomation Gain구함**"
   ]
  },
  {
   "cell_type": "markdown",
   "metadata": {},
   "source": [
    "* feature 1  "
   ]
  },
  {
   "cell_type": "markdown",
   "metadata": {},
   "source": [
    "|f1|y=yes|y=no|total|\n",
    "|:-:|:-:|:-:|:-:|\n",
    "|x=1|1|1|2|\n",
    "|x=0|1|3|4|\n",
    "|total|2|4|6|"
   ]
  },
  {
   "cell_type": "markdown",
   "metadata": {},
   "source": [
    "$E_1 = -[\\ P(y_{=yes},x_{=1})\\log{P(y_{=yes}|x_{=1})} + P(y_{=no},x_{=1})\\log{P(y_{=no}|x_{=1})} \\\\\n",
    "\\qquad\\ \\ \\ +P(y_{=yes},x_{=0})\\log{P(y_{=yes}|x_{=0})} + P(y_{=no},x_{=0})\\log{P(y_{=no}|x_{=0})}\\ ] \\\\\n",
    "= -[\\ \\frac{1}{6}\\log{\\frac{1}{2}}+\\frac{1}{6}\\log{\\frac{1}{2}}+\\frac{1}{6}\\log{\\frac{1}{4}}+\\frac{3}{6}\\log{\\frac{3}{4}}\\ ] $\n",
    "\n",
    "$IG_1 = E_{base} - E_1$"
   ]
  },
  {
   "cell_type": "code",
   "execution_count": 2,
   "metadata": {
    "collapsed": false
   },
   "outputs": [],
   "source": [
    "E1 = -((1/6)*np.log2(1/2) + (1/6)*np.log2(1/2) + (1/6)*np.log2(1/4) + (3/6)*np.log2(3/4))\n",
    "IG1 = Ebase - E1"
   ]
  },
  {
   "cell_type": "markdown",
   "metadata": {},
   "source": [
    "* feature 2"
   ]
  },
  {
   "cell_type": "markdown",
   "metadata": {},
   "source": [
    "|f2|y=yes|y=no|total|\n",
    "|:-:|:-:|:-:|:-:|\n",
    "|x=1|1|3|4|\n",
    "|x=0|1|1|2|\n",
    "|total|2|4|6|"
   ]
  },
  {
   "cell_type": "markdown",
   "metadata": {},
   "source": [
    "$E_2 = -[\\ \\frac{1}{6}\\log{\\frac{1}{4}} + \\frac{3}{6}\\log{\\frac{3}{4}} + \\frac{1}{6}\\log{\\frac{1}{2}} + \\frac{1}{6}\\log{\\frac{1}{2}}]$\n",
    "\n",
    "$IG_2 = E_{base} - E_2$"
   ]
  },
  {
   "cell_type": "code",
   "execution_count": 3,
   "metadata": {
    "collapsed": false
   },
   "outputs": [],
   "source": [
    "E2 = -((1/6)*np.log2(1/4) + (3/6)*np.log2(3/4) + (1/6)*np.log2(1/2) + (1/6)*np.log2(1/2))\n",
    "IG2 = Ebase - E2"
   ]
  },
  {
   "cell_type": "markdown",
   "metadata": {},
   "source": [
    "* feature 3"
   ]
  },
  {
   "cell_type": "markdown",
   "metadata": {},
   "source": [
    "|f3|y=yes|y=no|total|\n",
    "|:-:|:-:|:-:|:-:|\n",
    "|x=1|2|0|2|\n",
    "|x=0|2|2|4|\n",
    "|total|4|2|6|"
   ]
  },
  {
   "cell_type": "markdown",
   "metadata": {},
   "source": [
    "$E_3 = -[\\ \\frac{2}{6}\\log{\\frac{2}{2}} + \\frac{0}{6}\\log{\\frac{0}{2}} + \\frac{2}{6}\\log{\\frac{2}{4}} + \\frac{2}{6}\\log{\\frac{2}{4}}]$\n",
    "\n",
    "$IG_3 = E_{base} - E_3$"
   ]
  },
  {
   "cell_type": "code",
   "execution_count": 4,
   "metadata": {
    "collapsed": false,
    "scrolled": false
   },
   "outputs": [],
   "source": [
    "E3 = -((2/6)*np.log2(2/4) + (2/6)*np.log2(2/4))\n",
    "IG3 = Ebase - E3"
   ]
  },
  {
   "cell_type": "code",
   "execution_count": 5,
   "metadata": {
    "collapsed": false
   },
   "outputs": [
    {
     "name": "stdout",
     "output_type": "stream",
     "text": [
      "f1 | Entropy: 0.8742, IG: 0.0441\n",
      "f2 | Entropy: 0.8742, IG: 0.0441\n",
      "f3 | Entropy: 0.6667, IG: 0.2516\n"
     ]
    }
   ],
   "source": [
    "print('f1 | Entropy: {0:.4f}, IG: {1:.4f}'.format(E1, IG1))\n",
    "print('f2 | Entropy: {0:.4f}, IG: {1:.4f}'.format(E2, IG2))\n",
    "print('f3 | Entropy: {0:.4f}, IG: {1:.4f}'.format(E3, IG3))"
   ]
  },
  {
   "cell_type": "markdown",
   "metadata": {},
   "source": [
    "위 결과대로 f3 우선 선택하고 그다음으로  f1 혹은 f2를 선택한다,"
   ]
  },
  {
   "cell_type": "markdown",
   "metadata": {},
   "source": [
    "---"
   ]
  },
  {
   "cell_type": "markdown",
   "metadata": {},
   "source": [
    "### **코드**"
   ]
  },
  {
   "cell_type": "code",
   "execution_count": 6,
   "metadata": {
    "collapsed": true
   },
   "outputs": [],
   "source": [
    "from pprint import pprint"
   ]
  },
  {
   "cell_type": "code",
   "execution_count": 7,
   "metadata": {
    "collapsed": false
   },
   "outputs": [],
   "source": [
    "from DecisionTree import Decision_Tree"
   ]
  },
  {
   "cell_type": "code",
   "execution_count": 8,
   "metadata": {
    "collapsed": false
   },
   "outputs": [],
   "source": [
    "tree = Decision_Tree()"
   ]
  },
  {
   "cell_type": "code",
   "execution_count": 9,
   "metadata": {
    "collapsed": false
   },
   "outputs": [],
   "source": [
    "data, labels = tree.example_dataset()"
   ]
  },
  {
   "cell_type": "markdown",
   "metadata": {},
   "source": [
    "### frequency matrix 만들기\n",
    "이를 통해서 엔트로피를 계산한다."
   ]
  },
  {
   "cell_type": "code",
   "execution_count": 10,
   "metadata": {
    "collapsed": false
   },
   "outputs": [
    {
     "data": {
      "text/html": [
       "<div>\n",
       "<style>\n",
       "    .dataframe thead tr:only-child th {\n",
       "        text-align: right;\n",
       "    }\n",
       "\n",
       "    .dataframe thead th {\n",
       "        text-align: left;\n",
       "    }\n",
       "\n",
       "    .dataframe tbody tr th {\n",
       "        vertical-align: top;\n",
       "    }\n",
       "</style>\n",
       "<table border=\"1\" class=\"dataframe\">\n",
       "  <thead>\n",
       "    <tr style=\"text-align: right;\">\n",
       "      <th></th>\n",
       "      <th>0</th>\n",
       "    </tr>\n",
       "  </thead>\n",
       "  <tbody>\n",
       "    <tr>\n",
       "      <th>no</th>\n",
       "      <td>7</td>\n",
       "    </tr>\n",
       "    <tr>\n",
       "      <th>yes</th>\n",
       "      <td>1</td>\n",
       "    </tr>\n",
       "    <tr>\n",
       "      <th>total</th>\n",
       "      <td>8</td>\n",
       "    </tr>\n",
       "  </tbody>\n",
       "</table>\n",
       "</div>"
      ],
      "text/plain": [
       "       0\n",
       "no     7\n",
       "yes    1\n",
       "total  8"
      ]
     },
     "execution_count": 10,
     "metadata": {},
     "output_type": "execute_result"
    }
   ],
   "source": [
    "mat, _labels = tree.frequency_matrix(data[:, -1])\n",
    "pd.DataFrame(mat.astype(np.int), index=_labels)"
   ]
  },
  {
   "cell_type": "code",
   "execution_count": 19,
   "metadata": {
    "collapsed": false
   },
   "outputs": [
    {
     "data": {
      "text/plain": [
       "0.5435644431995964"
      ]
     },
     "execution_count": 19,
     "metadata": {},
     "output_type": "execute_result"
    }
   ],
   "source": [
    "-((7/8)*np.log2(7/8) + (1/8)*np.log2(1/8))"
   ]
  },
  {
   "cell_type": "code",
   "execution_count": 18,
   "metadata": {
    "collapsed": false
   },
   "outputs": [
    {
     "data": {
      "text/plain": [
       "0.5435644431995964"
      ]
     },
     "execution_count": 18,
     "metadata": {},
     "output_type": "execute_result"
    }
   ],
   "source": [
    "tree.cal_entropy(data[:, -1])"
   ]
  },
  {
   "cell_type": "code",
   "execution_count": 11,
   "metadata": {
    "collapsed": false
   },
   "outputs": [
    {
     "data": {
      "text/html": [
       "<div>\n",
       "<style>\n",
       "    .dataframe thead tr:only-child th {\n",
       "        text-align: right;\n",
       "    }\n",
       "\n",
       "    .dataframe thead th {\n",
       "        text-align: left;\n",
       "    }\n",
       "\n",
       "    .dataframe tbody tr th {\n",
       "        vertical-align: top;\n",
       "    }\n",
       "</style>\n",
       "<table border=\"1\" class=\"dataframe\">\n",
       "  <thead>\n",
       "    <tr style=\"text-align: right;\">\n",
       "      <th></th>\n",
       "      <th>no</th>\n",
       "      <th>yes</th>\n",
       "      <th>total</th>\n",
       "    </tr>\n",
       "  </thead>\n",
       "  <tbody>\n",
       "    <tr>\n",
       "      <th>0</th>\n",
       "      <td>3</td>\n",
       "      <td>1</td>\n",
       "      <td>4</td>\n",
       "    </tr>\n",
       "    <tr>\n",
       "      <th>1</th>\n",
       "      <td>4</td>\n",
       "      <td>0</td>\n",
       "      <td>4</td>\n",
       "    </tr>\n",
       "    <tr>\n",
       "      <th>total</th>\n",
       "      <td>7</td>\n",
       "      <td>1</td>\n",
       "      <td>8</td>\n",
       "    </tr>\n",
       "  </tbody>\n",
       "</table>\n",
       "</div>"
      ],
      "text/plain": [
       "       no  yes  total\n",
       "0       3    1      4\n",
       "1       4    0      4\n",
       "total   7    1      8"
      ]
     },
     "execution_count": 11,
     "metadata": {},
     "output_type": "execute_result"
    }
   ],
   "source": [
    "mat, _labels = tree.frequency_matrix(data[:, 0] ,data[:, -1])\n",
    "pd.DataFrame(mat.astype(np.int), index=_labels['rows'], columns=_labels['cols'])"
   ]
  },
  {
   "cell_type": "code",
   "execution_count": 12,
   "metadata": {
    "collapsed": false
   },
   "outputs": [
    {
     "data": {
      "text/plain": [
       "0.40563906222956642"
      ]
     },
     "execution_count": 12,
     "metadata": {},
     "output_type": "execute_result"
    }
   ],
   "source": [
    "-((3/8) * np.log2(3/4) + (1/8) * np.log2(1/4) + (4/8) * np.log2(4/4)) # + (0/8) * np.log(0/4) "
   ]
  },
  {
   "cell_type": "code",
   "execution_count": 13,
   "metadata": {
    "collapsed": false
   },
   "outputs": [
    {
     "data": {
      "text/plain": [
       "0.40563906222956642"
      ]
     },
     "execution_count": 13,
     "metadata": {},
     "output_type": "execute_result"
    }
   ],
   "source": [
    "tree.cal_entropy(data[:, [0, -1]])"
   ]
  },
  {
   "cell_type": "markdown",
   "metadata": {},
   "source": [
    "### tree 만들기"
   ]
  },
  {
   "cell_type": "code",
   "execution_count": 14,
   "metadata": {
    "collapsed": false
   },
   "outputs": [],
   "source": [
    "myTree = tree.build_Tree(data, labels)"
   ]
  },
  {
   "cell_type": "code",
   "execution_count": 15,
   "metadata": {
    "collapsed": false
   },
   "outputs": [
    {
     "name": "stdout",
     "output_type": "stream",
     "text": [
      "{'cartoon': {'0': {'more than 1 person': {'0': 'no',\n",
      "                                          '1': {'winter': {'0': 'no',\n",
      "                                                           '1': 'yes'}}}},\n",
      "             '1': 'no'}}\n"
     ]
    }
   ],
   "source": [
    "pprint(myTree)"
   ]
  },
  {
   "cell_type": "code",
   "execution_count": 16,
   "metadata": {
    "collapsed": true
   },
   "outputs": [],
   "source": [
    "test_list = [np.array([0, 0, 0]), np.array([0, 1, 1])]\n",
    "test_labels = ['yes', 'yes']"
   ]
  },
  {
   "cell_type": "code",
   "execution_count": 17,
   "metadata": {
    "collapsed": false
   },
   "outputs": [
    {
     "name": "stdout",
     "output_type": "stream",
     "text": [
      "[0 0 0] ('no', False)\n",
      "[0 1 1] ('yes', True)\n"
     ]
    }
   ],
   "source": [
    "for test_data, test_label in zip(test_list, test_labels):\n",
    "    print(test_data, tree.predict(myTree, test_data, test_label))"
   ]
  },
  {
   "cell_type": "code",
   "execution_count": null,
   "metadata": {
    "collapsed": true
   },
   "outputs": [],
   "source": []
  }
 ],
 "metadata": {
  "kernelspec": {
   "display_name": "Python [conda root]",
   "language": "python",
   "name": "conda-root-py"
  },
  "language_info": {
   "codemirror_mode": {
    "name": "ipython",
    "version": 3
   },
   "file_extension": ".py",
   "mimetype": "text/x-python",
   "name": "python",
   "nbconvert_exporter": "python",
   "pygments_lexer": "ipython3",
   "version": "3.6.0"
  }
 },
 "nbformat": 4,
 "nbformat_minor": 2
}
