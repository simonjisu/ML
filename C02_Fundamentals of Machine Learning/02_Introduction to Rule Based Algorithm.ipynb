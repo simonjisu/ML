{
 "cells": [
  {
   "cell_type": "markdown",
   "metadata": {},
   "source": [
    "## Find-S Algorithm\n",
    "\n",
    "Initialize $h$ to the mose specific in $H$:\n",
    "\n",
    "For instance $x$ in $D$\n",
    "> * if $x$ is positive\n",
    ">     * For feature $f$ in $O$\n",
    ">         * If $f_i$ in $h$ == $f_i$ in $x$:\n",
    ">             * Do nothing\n",
    ">         * Else\n",
    ">             * $f_i$ in $h$ = $f_i$ in $h \\cup f_i$ in $x$\n",
    "> * Return $h$"
   ]
  },
  {
   "cell_type": "code",
   "execution_count": 3,
   "metadata": {
    "collapsed": true
   },
   "outputs": [],
   "source": [
    "import numpy as np\n",
    "import pandas as pd"
   ]
  },
  {
   "cell_type": "code",
   "execution_count": 15,
   "metadata": {
    "collapsed": false
   },
   "outputs": [
    {
     "data": {
      "text/html": [
       "<div>\n",
       "<style scoped>\n",
       "    .dataframe tbody tr th:only-of-type {\n",
       "        vertical-align: middle;\n",
       "    }\n",
       "\n",
       "    .dataframe tbody tr th {\n",
       "        vertical-align: top;\n",
       "    }\n",
       "\n",
       "    .dataframe thead th {\n",
       "        text-align: right;\n",
       "    }\n",
       "</style>\n",
       "<table border=\"1\" class=\"dataframe\">\n",
       "  <thead>\n",
       "    <tr style=\"text-align: right;\">\n",
       "      <th></th>\n",
       "      <th>Sky</th>\n",
       "      <th>Temp</th>\n",
       "      <th>Humid</th>\n",
       "      <th>Wind</th>\n",
       "      <th>Water</th>\n",
       "      <th>Forecast</th>\n",
       "      <th>Enjoy Sport</th>\n",
       "    </tr>\n",
       "  </thead>\n",
       "  <tbody>\n",
       "    <tr>\n",
       "      <th>0</th>\n",
       "      <td>Sunny</td>\n",
       "      <td>Warm</td>\n",
       "      <td>Normal</td>\n",
       "      <td>Strong</td>\n",
       "      <td>Warm</td>\n",
       "      <td>Same</td>\n",
       "      <td>Yes</td>\n",
       "    </tr>\n",
       "    <tr>\n",
       "      <th>1</th>\n",
       "      <td>Sunny</td>\n",
       "      <td>Warm</td>\n",
       "      <td>High</td>\n",
       "      <td>Strong</td>\n",
       "      <td>Warm</td>\n",
       "      <td>Same</td>\n",
       "      <td>Yes</td>\n",
       "    </tr>\n",
       "    <tr>\n",
       "      <th>2</th>\n",
       "      <td>Rainy</td>\n",
       "      <td>Cold</td>\n",
       "      <td>High</td>\n",
       "      <td>Strong</td>\n",
       "      <td>Warm</td>\n",
       "      <td>Change</td>\n",
       "      <td>No</td>\n",
       "    </tr>\n",
       "    <tr>\n",
       "      <th>3</th>\n",
       "      <td>Sunny</td>\n",
       "      <td>Warm</td>\n",
       "      <td>High</td>\n",
       "      <td>Strong</td>\n",
       "      <td>Cool</td>\n",
       "      <td>Change</td>\n",
       "      <td>Yes</td>\n",
       "    </tr>\n",
       "  </tbody>\n",
       "</table>\n",
       "</div>"
      ],
      "text/plain": [
       "     Sky  Temp   Humid    Wind Water Forecast Enjoy Sport\n",
       "0  Sunny  Warm  Normal  Strong  Warm     Same         Yes\n",
       "1  Sunny  Warm    High  Strong  Warm     Same         Yes\n",
       "2  Rainy  Cold    High  Strong  Warm   Change          No\n",
       "3  Sunny  Warm    High  Strong  Cool   Change         Yes"
      ]
     },
     "execution_count": 15,
     "metadata": {},
     "output_type": "execute_result"
    }
   ],
   "source": [
    "cols = [\"Sky\",\"Temp\",\"Humid\",\"Wind\",\"Water\",\"Forecast\",\"Enjoy Sport\"]\n",
    "data = [[\"Sunny\",\"Warm\",\"Normal\",\"Strong\",\"Warm\",\"Same\",\"Yes\"],\n",
    "        [\"Sunny\",\"Warm\",\"High\",\"Strong\",\"Warm\",\"Same\",\"Yes\"],\n",
    "        [\"Rainy\",\"Cold\",\"High\",\"Strong\",\"Warm\",\"Change\",\"No\"],\n",
    "        [\"Sunny\",\"Warm\",\"High\",\"Strong\",\"Cool\",\"Change\",\"Yes\"]]\n",
    "# use dataframe just for watching data looks like\n",
    "df = pd.DataFrame(data, columns=cols)\n",
    "df"
   ]
  },
  {
   "cell_type": "code",
   "execution_count": 21,
   "metadata": {
    "collapsed": true
   },
   "outputs": [],
   "source": [
    "def S_Algorithm(data, cols):\n",
    "    \"\"\"\n",
    "    Find 'Enjoy Sport == Yes' hypothesis\n",
    "    \"\"\"\n",
    "    h = [None] * (len(cols) - 1)\n",
    "    feature_dict = {name: [None] for name in cols}\n",
    "    \n",
    "    for x in data:\n",
    "        if x[-1] == 'Yes':\n",
    "            for i, (f_x, f_h, name) in enumerate(zip(x, h, cols)):\n",
    "                if f_x == f_h:\n",
    "                    continue\n",
    "                else:\n",
    "                    feature_dict[name].append(f_x)\n",
    "                    h[i] = f_x\n",
    "    for i, name in enumerate(cols):\n",
    "        if len(feature_dict[name]) >=3:\n",
    "            h[i] = '?'\n",
    "    \n",
    "    return h"
   ]
  },
  {
   "cell_type": "code",
   "execution_count": 22,
   "metadata": {
    "collapsed": false
   },
   "outputs": [
    {
     "data": {
      "text/plain": [
       "['Sunny', 'Warm', '?', 'Strong', '?', '?']"
      ]
     },
     "execution_count": 22,
     "metadata": {},
     "output_type": "execute_result"
    }
   ],
   "source": [
    "S_Algorithm(data, cols)"
   ]
  },
  {
   "cell_type": "code",
   "execution_count": 19,
   "metadata": {
    "collapsed": true
   },
   "outputs": [],
   "source": [
    "h = [None] * (len(cols) - 1)"
   ]
  },
  {
   "cell_type": "code",
   "execution_count": 20,
   "metadata": {
    "collapsed": false
   },
   "outputs": [
    {
     "data": {
      "text/plain": [
       "[None, None, None, None, None, None]"
      ]
     },
     "execution_count": 20,
     "metadata": {},
     "output_type": "execute_result"
    }
   ],
   "source": [
    "h"
   ]
  },
  {
   "cell_type": "code",
   "execution_count": null,
   "metadata": {
    "collapsed": true
   },
   "outputs": [],
   "source": []
  }
 ],
 "metadata": {
  "kernelspec": {
   "display_name": "Python [conda root]",
   "language": "python",
   "name": "conda-root-py"
  },
  "language_info": {
   "codemirror_mode": {
    "name": "ipython",
    "version": 3
   },
   "file_extension": ".py",
   "mimetype": "text/x-python",
   "name": "python",
   "nbconvert_exporter": "python",
   "pygments_lexer": "ipython3",
   "version": "3.6.0"
  }
 },
 "nbformat": 4,
 "nbformat_minor": 2
}
